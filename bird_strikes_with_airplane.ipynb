{
 "cells": [
  {
   "cell_type": "code",
   "execution_count": null,
   "metadata": {},
   "outputs": [],
   "source": [
    "import pandas as pd\n",
    "import matplotlib.pyplot as plt\n",
    "import seaborn as sns\n",
    "\n",
    "df=pd.read_csv(r\"C:\\Users\\USER\\Airplane\\database.csv\")"
   ]
  },
  {
   "cell_type": "code",
   "execution_count": null,
   "metadata": {},
   "outputs": [],
   "source": [
    "df.head(20)"
   ]
  },
  {
   "cell_type": "code",
   "execution_count": null,
   "metadata": {},
   "outputs": [],
   "source": [
    "df.shape"
   ]
  },
  {
   "cell_type": "code",
   "execution_count": null,
   "metadata": {},
   "outputs": [],
   "source": [
    "df.columns"
   ]
  },
  {
   "cell_type": "code",
   "execution_count": null,
   "metadata": {},
   "outputs": [],
   "source": [
    "columns_to_drop=['Record ID','Incident Month', 'Incident Day','Operator ID','Aircraft Type', 'Aircraft Make',\n",
    "       'Aircraft Model', 'Aircraft Mass', 'Engine Make', 'Engine Model',\n",
    "       'Engines', 'Engine Type', 'Engine1 Position', 'Engine2 Position',\n",
    "       'Engine3 Position', 'Engine4 Position', 'Airport ID', 'Airport',\n",
    "       'State', 'FAA Region', 'Warning Issued', 'Flight Phase']"
   ]
  },
  {
   "cell_type": "code",
   "execution_count": null,
   "metadata": {},
   "outputs": [],
   "source": [
    "df=df.drop(columns_to_drop,axis=1)"
   ]
  },
  {
   "cell_type": "code",
   "execution_count": null,
   "metadata": {},
   "outputs": [],
   "source": [
    "df.shape"
   ]
  },
  {
   "cell_type": "code",
   "execution_count": null,
   "metadata": {},
   "outputs": [],
   "source": [
    "df.columns"
   ]
  },
  {
   "cell_type": "code",
   "execution_count": null,
   "metadata": {},
   "outputs": [],
   "source": [
    "years_wise_strikes=df['Incident Year'].value_counts()"
   ]
  },
  {
   "cell_type": "code",
   "execution_count": null,
   "metadata": {},
   "outputs": [],
   "source": [
    "years_wise_strikes"
   ]
  },
  {
   "cell_type": "code",
   "execution_count": null,
   "metadata": {},
   "outputs": [],
   "source": [
    "sns.set(font_scale=2)\n",
    "years_wise_strikes.plot(kind='bar',figsize=(15,8),rot=45)\n",
    "\n",
    "plt.xlabel(\"YEARS\", labelpad=14)\n",
    "plt.ylabel(\"NUMBER OF STRIKES\", labelpad=20)\n",
    "plt.title(\"INCIDENT OF BIRD STRIKES WITH AIRPLANE\", y=1.02);\n",
    "plt.savefig('year_wise_incidents.png')"
   ]
  },
  {
   "cell_type": "code",
   "execution_count": null,
   "metadata": {},
   "outputs": [],
   "source": [
    "df['Visibility'].fillna(\"UNKNOWN\",inplace=True)"
   ]
  },
  {
   "cell_type": "code",
   "execution_count": null,
   "metadata": {},
   "outputs": [],
   "source": [
    "df['Visibility'].value_counts()"
   ]
  },
  {
   "cell_type": "code",
   "execution_count": null,
   "metadata": {},
   "outputs": [],
   "source": [
    "df['Precipitation'].fillna(\"UNKNOWN\",inplace=True)"
   ]
  },
  {
   "cell_type": "code",
   "execution_count": null,
   "metadata": {},
   "outputs": [],
   "source": [
    "df['Precipitation'].value_counts()"
   ]
  },
  {
   "cell_type": "code",
   "execution_count": null,
   "metadata": {},
   "outputs": [],
   "source": [
    "df['Flight Impact'].fillna(\"UNKNOWN\",inplace=True)\n",
    "df['Flight Impact'].value_counts()"
   ]
  },
  {
   "cell_type": "code",
   "execution_count": null,
   "metadata": {},
   "outputs": [],
   "source": [
    "strikes=['Radome Strike','Windshield Strike','Nose Strike','Engine1 Strike','Engine2 Strike','Engine3 Strike','Engine4 Strike','Propeller Strike','Wing or Rotor Strike','Fuselage Strike','Landing Gear Strike','Tail Strike','Lights Strike','Other Strike']"
   ]
  },
  {
   "cell_type": "code",
   "execution_count": null,
   "metadata": {},
   "outputs": [],
   "source": [
    "strike=df[strikes]"
   ]
  },
  {
   "cell_type": "code",
   "execution_count": null,
   "metadata": {},
   "outputs": [],
   "source": [
    "strike_bar=strike.sum(axis=0).sort_values(ascending=True)"
   ]
  },
  {
   "cell_type": "code",
   "execution_count": null,
   "metadata": {},
   "outputs": [],
   "source": [
    "sns.set(font_scale=2)\n",
    "strike_bar.plot(kind='barh',figsize=(15,8),rot=0)\n",
    "\n",
    "plt.xlabel(\"NUMBER OF STRIKES\")\n",
    "plt.ylabel(\"PLACE OF STRIKES\")\n",
    "plt.title(\"BIRD STRIKES WITH DIFFERENT AIRPLANE PARTS\", y=1);\n",
    "plt.savefig('strikes with differents parts.png')"
   ]
  },
  {
   "cell_type": "code",
   "execution_count": null,
   "metadata": {},
   "outputs": [],
   "source": [
    "strike.sum(axis=0)"
   ]
  },
  {
   "cell_type": "code",
   "execution_count": null,
   "metadata": {},
   "outputs": [],
   "source": [
    "injury=['Fatalities', 'Injuries']\n",
    "df['Operator'].value_counts()"
   ]
  },
  {
   "cell_type": "code",
   "execution_count": null,
   "metadata": {},
   "outputs": [],
   "source": [
    "damage_columns=['Radome Damage','Windshield Damage','Nose Damage','Engine1 Damage','Engine2 Damage','Engine3 Damage','Engine4 Damage','Propeller Damage','Wing or Rotor Damage','Fuselage Damage','Landing Gear Damage','Tail Damage','Lights Damage','Other Damage']"
   ]
  },
  {
   "cell_type": "code",
   "execution_count": null,
   "metadata": {},
   "outputs": [],
   "source": [
    "damage=df[damage_columns]"
   ]
  },
  {
   "cell_type": "code",
   "execution_count": null,
   "metadata": {},
   "outputs": [],
   "source": [
    "damage_bar=damage.sum(axis=0).sort_values(ascending=True)"
   ]
  },
  {
   "cell_type": "code",
   "execution_count": null,
   "metadata": {},
   "outputs": [],
   "source": [
    "damage_bar"
   ]
  },
  {
   "cell_type": "code",
   "execution_count": null,
   "metadata": {},
   "outputs": [],
   "source": [
    "sns.set(font_scale=2)\n",
    "damage_bar.plot(kind='barh',figsize=(15,8),rot=0)\n",
    "\n",
    "plt.xlabel(\"NUMBER OF DAMAGE INCIDENTS\")\n",
    "plt.ylabel(\"PLACE OF DAMAGE\")\n",
    "plt.title(\"Damage of different parts of airplane after striking with birds\", y=1);\n",
    "plt.savefig('damage of different parts.png')"
   ]
  },
  {
   "cell_type": "code",
   "execution_count": null,
   "metadata": {},
   "outputs": [],
   "source": []
  },
  {
   "cell_type": "code",
   "execution_count": null,
   "metadata": {},
   "outputs": [],
   "source": []
  }
 ],
 "metadata": {
  "kernelspec": {
   "display_name": "Python 3",
   "language": "python",
   "name": "python3"
  },
  "language_info": {
   "codemirror_mode": {
    "name": "ipython",
    "version": 3
   },
   "file_extension": ".py",
   "mimetype": "text/x-python",
   "name": "python",
   "nbconvert_exporter": "python",
   "pygments_lexer": "ipython3",
   "version": "3.7.4"
  }
 },
 "nbformat": 4,
 "nbformat_minor": 2
}
